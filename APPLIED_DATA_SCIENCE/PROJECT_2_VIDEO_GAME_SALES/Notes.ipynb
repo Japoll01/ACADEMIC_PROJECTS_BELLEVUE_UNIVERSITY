{
 "cells": [
  {
   "cell_type": "code",
   "execution_count": 1,
   "metadata": {},
   "outputs": [
    {
     "name": "stdout",
     "output_type": "stream",
     "text": [
      "APPLIED_DATA_SCIENCE/Final_Projects_ReadME.md\n",
      "APPLIED_DATA_SCIENCE/PROJECT_2_VIDEO_GAME_SALES/MILESTONE_1/PROJECT_2_MILESTONE_1_VIDEO_GAME_SALES.docx\n",
      "APPLIED_DATA_SCIENCE/PROJECT_2_VIDEO_GAME_SALES/MILESTONE_1/PROJECT_2_MILESTONE_1_VIDEO_GAME_SALES.pdf\n",
      "APPLIED_DATA_SCIENCE/PROJECT_2_VIDEO_GAME_SALES/MILESTONE_1/README_DATASETS.md\n",
      "APPLIED_DATA_SCIENCE/PROJECT_2_VIDEO_GAME_SALES/MILESTONE_1/Updated_Consumer_Sentiment_Sample.csv\n",
      "APPLIED_DATA_SCIENCE/PROJECT_2_VIDEO_GAME_SALES/MILESTONE_1/Updated_Critic_User_Scores_Sample.csv\n",
      "APPLIED_DATA_SCIENCE/PROJECT_2_VIDEO_GAME_SALES/MILESTONE_1/Updated_Global_Video_Game_Sales_Sample.csv\n",
      "APPLIED_DATA_SCIENCE/PROJECT_2_VIDEO_GAME_SALES/MILESTONE_1/Updated_Market_Trends_Sample.csv\n",
      "APPLIED_DATA_SCIENCE/PROJECT_2_VIDEO_GAME_SALES/MILESTONE_2/JAPOLLO_PROJECT_2_VIDEO_GAME_SALES_MILESTONE_2.pdf\n",
      "APPLIED_DATA_SCIENCE/PROJECT_2_VIDEO_GAME_SALES/MILESTONE_3/23.ipynb\n",
      "APPLIED_DATA_SCIENCE/PROJECT_2_VIDEO_GAME_SALES/MILESTONE_3/Updated_Consumer_Sentiment_Sample.csv\n",
      "APPLIED_DATA_SCIENCE/PROJECT_2_VIDEO_GAME_SALES/MILESTONE_3/Updated_Critic_User_Scores_Sample.csv\n",
      "APPLIED_DATA_SCIENCE/PROJECT_2_VIDEO_GAME_SALES/MILESTONE_3/Updated_Global_Video_Game_Sales_Sample.csv\n",
      "APPLIED_DATA_SCIENCE/PROJECT_2_VIDEO_GAME_SALES/MILESTONE_3/Updated_Market_Trends_Sample.csv\n",
      "APPLIED_DATA_SCIENCE/PROJECT_3_ECO_GLO_CANDLE/DATASETS/Customer_Behavior_Data.xlsx\n",
      "APPLIED_DATA_SCIENCE/PROJECT_3_ECO_GLO_CANDLE/DATASETS/Sales_and_Seasonal_Data.xlsx\n",
      "APPLIED_DATA_SCIENCE/PROJECT_3_ECO_GLO_CANDLE/DATASETS/Social_Media_Metrics.xlsx\n",
      "APPLIED_DATA_SCIENCE/PROJECT_3_ECO_GLO_CANDLE/EcoGlow_Candles_Project_README.md\n",
      "APPLIED_DATA_SCIENCE/PROJECT_3_ECO_GLO_CANDLE/EcoGlow_Candles_Project_README.txt\n",
      "APPLIED_DATA_SCIENCE/PROJECT_3_ECO_GLO_CANDLE/MILESTONE_1/JAPOLLO_PROJECT_3_MILESTONE_1.pdf\n",
      "APPLIED_DATA_SCIENCE/PROJECT_3_ECO_GLO_CANDLE/MILESTONE_2/EcoGlow_Data_Visualization.ipynb\n",
      "APPLIED_DATA_SCIENCE/PROJECT_3_ECO_GLO_CANDLE/MILESTONE_2/EcoGlow_Data_Visualization.ipynb - Colab.pdf\n",
      "APPLIED_DATA_SCIENCE/PROJECT_3_ECO_GLO_CANDLE/MILESTONE_2/JAPOLLO_PROJECT_3_MILESTONE_2.docx\n",
      "APPLIED_DATA_SCIENCE/PROJECT_3_ECO_GLO_CANDLE/MILESTONE_2/JAPOLLO_PROJECT_3_MILESTONE_2.pdf\n",
      "APPLIED_DATA_SCIENCE/PROJECT_3_ECO_GLO_CANDLE/MILESTONE_3/EcoGlow_Candles_Presentation.pptx\n",
      "APPLIED_DATA_SCIENCE/PROJECT_3_ECO_GLO_CANDLE/MILESTONE_3/EcoGlow_Data_Visualization_Verison_2.ipynb\n",
      "APPLIED_DATA_SCIENCE/PROJECT_3_ECO_GLO_CANDLE/MILESTONE_3/EcoGlow_Data_Visualization_Verison_2.ipynb - Colab.pdf\n",
      "APPLIED_DATA_SCIENCE/PROJECT_3_ECO_GLO_CANDLE/MILESTONE_3/JAPOLLO_PROJECT_3_AUDIO_TRANSCRIPT.docx\n",
      "APPLIED_DATA_SCIENCE/PROJECT_3_ECO_GLO_CANDLE/MILESTONE_3/JAPOLLO_PROJECT_3_ECO_GLO_WRITE_UP_MILESTONE_3.docx\n",
      "APPLIED_DATA_SCIENCE/PROJECT_3_ECO_GLO_CANDLE/MILESTONE_3/JAPOLLO_PROJECT_3_ECO_GLO_WRITE_UP_MILESTONE_3.pdf\n",
      "APPLIED_DATA_SCIENCE/PROJECT_3_ECO_GLO_CANDLE/MILESTONE_3/JAPOLLO_Project_3_Q_A.docx\n",
      "APPLIED_DATA_SCIENCE/PROJECT_3_ECO_GLO_CANDLE/MILESTONE_3/JAPOLLO_Project_3_Q_A.pdf\n",
      "APPLIED_DATA_SCIENCE/PROJECT_3_ECO_GLO_CANDLE/MILESTONE_3/ecoglow_data_visualization_verison_2.py\n",
      "README.md\n",
      "scratch_paper.py\n"
     ]
    }
   ],
   "source": [
    "import requests\n",
    "\n",
    "def list_github_files_recursive(username, repo_name, path=\"\"):\n",
    "    # GitHub API URL to list the contents\n",
    "    url = f\"https://api.github.com/repos/{username}/{repo_name}/contents/{path}\"\n",
    "    \n",
    "    # Make a GET request to the GitHub API\n",
    "    response = requests.get(url)\n",
    "    \n",
    "    if response.status_code == 200:\n",
    "        files = response.json()\n",
    "        for file in files:\n",
    "            if file['type'] == 'file':\n",
    "                print(file['path'])  # Print file path\n",
    "            elif file['type'] == 'dir':\n",
    "                # Recursive call to explore subdirectories\n",
    "                list_github_files_recursive(username, repo_name, file['path'])\n",
    "    else:\n",
    "        print(f\"Failed to fetch file paths. Status code: {response.status_code}\")\n",
    "\n",
    "# GitHub repository details\n",
    "username = \"Japoll01\"\n",
    "repo_name = \"ACADEMIC_PROJECTS_BELLEVUE_UNIVERSITY\"\n",
    "\n",
    "# Call the function to list all files recursively\n",
    "list_github_files_recursive(username, repo_name)\n"
   ]
  }
 ],
 "metadata": {
  "colab": {
   "provenance": []
  },
  "kernelspec": {
   "display_name": "Python 3 (ipykernel)",
   "language": "python",
   "name": "python3"
  }
 },
 "nbformat": 4,
 "nbformat_minor": 0
}
