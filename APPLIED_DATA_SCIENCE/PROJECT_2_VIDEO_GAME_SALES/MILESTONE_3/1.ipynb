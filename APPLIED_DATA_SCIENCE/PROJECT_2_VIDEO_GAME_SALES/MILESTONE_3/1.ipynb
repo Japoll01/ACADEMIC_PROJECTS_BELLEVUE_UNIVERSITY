# Importing necessary libraries
import pandas as pd
import numpy as np
import matplotlib.pyplot as plt

# File paths for the datasets
consumer_sentiment_path = "APPLIED_DATA_SCIENCE/PROJECT_2_VIDEO_GAME_SALES/MILESTONE_3/Updated_Consumer_Sentiment_Sample.csv"
critic_user_scores_path = "APPLIED_DATA_SCIENCE/PROJECT_2_VIDEO_GAME_SALES/MILESTONE_3/Updated_Critic_User_Scores_Sample.csv"
global_video_game_sales_path = "APPLIED_DATA_SCIENCE/PROJECT_2_VIDEO_GAME_SALES/MILESTONE_3/Updated_Global_Video_Game_Sales_Sample.csv"
market_trends_path = "APPLIED_DATA_SCIENCE/PROJECT_2_VIDEO_GAME_SALES/MILESTONE_3/Updated_Market_Trends_Sample.csv"

# Reading the CSV files into DataFrames
global_video_game_sales = pd.read_csv(global_video_game_sales_path)
consumer_sentiment = pd.read_csv(consumer_sentiment_path)
critic_user_scores = pd.read_csv(critic_user_scores_path)
market_trends = pd.read_csv(market_trends_path)

# Extracting GDP Growth as a numeric value from the 'Economic_Indicators' column
market_trends['GDP_Growth'] = market_trends['Economic_Indicators'].str.extract(r'(\d+\.\d+)').astype(float)

# Plotting 15 visualizations
plt.figure(figsize=(20, 45))

# Heading: Sales Analysis
# Figure 1: Sales by Region
plt.subplot(5, 3, 1)
global_video_game_sales.groupby('Region')['Sales_Units'].sum().plot(kind='bar', color='teal')
plt.title('Figure 1: Sales by Region')
plt.xlabel('Region')
plt.ylabel('Sales Units (in millions)')
# Analysis: North America shows the highest sales, indicating it is a crucial market for video game success.

# Figure 2: Sales by Genre
plt.subplot(5, 3, 2)
global_video_game_sales.groupby('Genre')['Sales_Units'].sum().plot(kind='bar', color='orange')
plt.title('Figure 2: Sales by Genre')
plt.xlabel('Genre')
plt.ylabel('Sales Units (in millions)')
# Analysis: Action and RPG genres are the most popular, driving the largest sales numbers.

# Figure 3: Sales Distribution by Platform
plt.subplot(5, 3, 3)
global_video_game_sales['Platform'].value_counts().plot(kind='pie', autopct='%1.1f%%')
plt.title('Figure 3: Sales Distribution by Platform')
# Analysis: PlayStation and Xbox hold a significant market share, while PC lags behind.

# Heading: Consumer Sentiment Analysis
# Figure 4: Sentiment Score Distribution
plt.subplot(5, 3, 4)
consumer_sentiment['Sentiment_Score'].plot(kind='hist', bins=len(consumer_sentiment), color='green')
plt.title('Figure 4: Sentiment Score Distribution')
plt.xlabel('Sentiment Score')
# Analysis: The sentiment scores are skewed slightly positive, suggesting overall favorable reception.

# Figure 5: Engagement Metrics Overview
plt.subplot(5, 3, 5)
engagement_numbers = consumer_sentiment['Engagement_Metrics'].str.extract('(\d+)').astype(int)
engagement_numbers.plot(kind='hist', color='purple', legend=False, bins=len(engagement_numbers))
plt.title('Figure 5: Engagement Metrics Distribution')
plt.xlabel('Engagement Count')
# Analysis: Engagement levels vary widely, with most posts having moderate interaction.

# Figure 6: Critic vs. User Score Comparison
plt.subplot(5, 3, 6)
plt.scatter(critic_user_scores['Critic_Score'], critic_user_scores['User_Score'], color='red')
plt.title('Figure 6: Critic vs. User Score Comparison')
plt.xlabel('Critic Score')
plt.ylabel('User Score')
# Analysis: There is a weak positive correlation between critic and user scores, indicating some agreement.

# Heading: Review Platform Analysis
# Figure 7: Average Scores per Review Platform
plt.subplot(5, 3, 7)
critic_user_scores.groupby('Review_Platform')['User_Score'].mean().plot(kind='bar', color='blue')
plt.title('Figure 7: Average User Score by Review Platform')
plt.xlabel('Review Platform')
plt.ylabel('Average User Score')
# Analysis: Metacritic generally has higher average user scores compared to other platforms.

# Figure 8: Marketing Spend by Year
plt.subplot(5, 3, 8)
plt.scatter(market_trends['Year'], market_trends['Marketing_Spend'], color='brown')
plt.title('Figure 8: Marketing Spend Over Years')
plt.xlabel('Year')
plt.ylabel('Marketing Spend (in millions)')
# Analysis: Each data point is plotted, showing the variation in marketing spend across different years.

# Figure 9: Genre Trends Over Years
plt.subplot(5, 3, 9)
market_trends['Genre_Trends'].value_counts().plot(kind='bar', color='teal')
plt.title('Figure 9: Genre Trends Over Years')
plt.xlabel('Genre Trends')
plt.ylabel('Frequency')
# Analysis: Strategy and RPG genres have become more prevalent, indicating a shift in player preferences.

# Figure 10: Sales Units vs. Price
plt.subplot(5, 3, 10)
plt.scatter(global_video_game_sales['Price'], global_video_game_sales['Sales_Units'], color='blue')
plt.title('Figure 10: Sales Units vs. Price')
plt.xlabel('Price ($)')
plt.ylabel('Sales Units (in millions)')
# Analysis: All data points are represented, showing no clear relationship between price and sales units.

# Heading: Platform and Publisher Analysis
# Figure 11: Sentiment Score by Platform
plt.subplot(5, 3, 11)
consumer_sentiment.groupby('Platform')['Sentiment_Score'].mean().plot(kind='bar', color='brown')
plt.title('Figure 11: Average Sentiment Score by Platform')
plt.xlabel('Platform')
plt.ylabel('Average Sentiment Score')
# Analysis: Twitter has a slightly lower average sentiment score compared to other platforms.

# Figure 12: Sales Performance by Publisher
plt.subplot(5, 3, 12)
global_video_game_sales.groupby('Publisher')['Sales_Units'].sum().plot(kind='bar', color='cyan')
plt.title('Figure 12: Sales Performance by Publisher')
plt.xlabel('Publisher')
plt.ylabel('Sales Units (in millions)')
# Analysis: Publisher Y leads in total sales, outperforming its competitors.

# Heading: Score Distribution Analysis
# Figure 13: Critic Score Distribution
plt.subplot(5, 3, 13)
critic_user_scores['Critic_Score'].plot(kind='hist', bins=len(critic_user_scores), color='grey')
plt.title('Figure 13: Critic Score Distribution')
plt.xlabel('Critic Score')
# Analysis: Most games receive critic scores in the 70-90 range, showing general favorability.

# Figure 14: User Score Distribution
plt.subplot(5, 3, 14)
critic_user_scores['User_Score'].plot(kind='hist', bins=len(critic_user_scores), color='magenta')
plt.title('Figure 14: User Score Distribution')
plt.xlabel('User Score')
# Analysis: User scores are more varied, with some games receiving both very high and low ratings.

# Figure 15: Economic Growth Across Regions
plt.subplot(5, 3, 15)
plt.scatter(market_trends['Region'], market_trends['GDP_Growth'], color='orange')
plt.title('Figure 15: Economic Growth Across Regions')
plt.xlabel('Region')
plt.ylabel('GDP Growth (%)')
# Analysis: Each region's economic growth rate is plotted, showing Asia's higher GDP growth.

# Adjust layout for better spacing between charts
plt.subplots_adjust(hspace=0.5, wspace=0.3)

# Display the plots
plt.show()
