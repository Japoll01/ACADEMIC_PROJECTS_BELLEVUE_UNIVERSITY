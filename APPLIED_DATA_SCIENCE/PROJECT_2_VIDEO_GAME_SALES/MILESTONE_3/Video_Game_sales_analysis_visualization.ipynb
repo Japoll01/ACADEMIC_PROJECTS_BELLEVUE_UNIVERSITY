{
  "cells": [
    {
      "cell_type": "code",
      "execution_count": null,
      "id": "34fe4e15",
      "metadata": {
        "id": "34fe4e15"
      },
      "outputs": [],
      "source": [
        "\n",
        "# Importing necessary libraries\n",
        "import pandas as pd\n",
        "import numpy as np\n",
        "import matplotlib.pyplot as plt\n",
        "\n",
        "# File paths for the datasets\n",
        "consumer_sentiment_path = \"APPLIED_DATA_SCIENCE/PROJECT_2_VIDEO_GAME_SALES/MILESTONE_1/Updated_Consumer_Sentiment_Sample.csv\"\n",
        "critic_user_scores_path = \"APPLIED_DATA_SCIENCE/PROJECT_2_VIDEO_GAME_SALES/MILESTONE_1/Updated_Critic_User_Scores_Sample.csv\"\n",
        "global_video_game_sales_path = \"APPLIED_DATA_SCIENCE/PROJECT_2_VIDEO_GAME_SALES/MILESTONE_1/Updated_Global_Video_Game_Sales_Sample.csv\"\n",
        "market_trends_path = \"APPLIED_DATA_SCIENCE/PROJECT_2_VIDEO_GAME_SALES/MILESTONE_1/Updated_Market_Trends_Sample.csv\"\n",
        "\n",
        "# Reading the CSV files into DataFrames\n",
        "global_video_game_sales = pd.read_csv(global_video_game_sales_path)\n",
        "consumer_sentiment = pd.read_csv(consumer_sentiment_path)\n",
        "critic_user_scores = pd.read_csv(critic_user_scores_path)\n",
        "market_trends = pd.read_csv(market_trends_path)\n",
        "\n",
        "# Extracting GDP Growth as a numeric value from the 'Economic_Indicators' column\n",
        "market_trends['GDP_Growth'] = market_trends['Economic_Indicators'].str.extract(r'(\\d+\\.\\d+)').astype(float)\n",
        ""
      ]
    },
    {
      "cell_type": "code",
      "execution_count": null,
      "id": "6a6e8433",
      "metadata": {
        "id": "6a6e8433"
      },
      "outputs": [],
      "source": [
        "\n",
        "# Figure 1: Sales by Region\n",
        "plt.figure(figsize=(10, 6))\n",
        "global_video_game_sales.groupby('Region')['Sales_Units'].sum().plot(kind='bar', color='teal')\n",
        "plt.title('Figure 1: Sales by Region')\n",
        "plt.xlabel('Region')\n",
        "plt.ylabel('Sales Units (in millions)')\n",
        "plt.show()\n",
        "print(\"Analysis: North America shows the highest sales, indicating it is a crucial market for video game success.\")\n",
        ""
      ]
    },
    {
      "cell_type": "code",
      "execution_count": null,
      "id": "3e9ff750",
      "metadata": {
        "id": "3e9ff750"
      },
      "outputs": [],
      "source": [
        "\n",
        "# Figure 2: Sales by Genre\n",
        "plt.figure(figsize=(10, 6))\n",
        "global_video_game_sales.groupby('Genre')['Sales_Units'].sum().plot(kind='bar', color='orange')\n",
        "plt.title('Figure 2: Sales by Genre')\n",
        "plt.xlabel('Genre')\n",
        "plt.ylabel('Sales Units (in millions)')\n",
        "plt.show()\n",
        "print(\"Analysis: Action and RPG genres are the most popular, driving the largest sales numbers.\")\n",
        ""
      ]
    },
    {
      "cell_type": "code",
      "execution_count": null,
      "id": "78395b35",
      "metadata": {
        "id": "78395b35"
      },
      "outputs": [],
      "source": [
        "\n",
        "# Figure 3: Sales Distribution by Platform\n",
        "plt.figure(figsize=(10, 6))\n",
        "global_video_game_sales['Platform'].value_counts().plot(kind='pie', autopct='%1.1f%%')\n",
        "plt.title('Figure 3: Sales Distribution by Platform')\n",
        "plt.show()\n",
        "print(\"Analysis: PlayStation and Xbox hold a significant market share, while PC lags behind.\")\n",
        ""
      ]
    },
    {
      "cell_type": "code",
      "execution_count": null,
      "id": "6a1ea9bd",
      "metadata": {
        "id": "6a1ea9bd"
      },
      "outputs": [],
      "source": [
        "\n",
        "# Figure 4: Sentiment Score Distribution\n",
        "plt.figure(figsize=(10, 6))\n",
        "consumer_sentiment['Sentiment_Score'].plot(kind='hist', bins=len(consumer_sentiment), color='green')\n",
        "plt.title('Figure 4: Sentiment Score Distribution')\n",
        "plt.xlabel('Sentiment Score')\n",
        "plt.show()\n",
        "print(\"Analysis: The sentiment scores are skewed slightly positive, suggesting overall favorable reception.\")\n",
        ""
      ]
    },
    {
      "cell_type": "code",
      "execution_count": null,
      "id": "4db6f6f8",
      "metadata": {
        "id": "4db6f6f8"
      },
      "outputs": [],
      "source": [
        "\n",
        "# Figure 5: Engagement Metrics Overview\n",
        "plt.figure(figsize=(10, 6))\n",
        "engagement_numbers = consumer_sentiment['Engagement_Metrics'].str.extract('(\\d+)').astype(int)\n",
        "engagement_numbers.plot(kind='hist', color='purple', legend=False, bins=len(engagement_numbers))\n",
        "plt.title('Figure 5: Engagement Metrics Distribution')\n",
        "plt.xlabel('Engagement Count')\n",
        "plt.show()\n",
        "print(\"Analysis: Engagement levels vary widely, with most posts having moderate interaction.\")\n",
        ""
      ]
    },
    {
      "cell_type": "code",
      "execution_count": null,
      "id": "721df83a",
      "metadata": {
        "id": "721df83a"
      },
      "outputs": [],
      "source": [
        "\n",
        "# Figure 6: Critic vs. User Score Comparison\n",
        "plt.figure(figsize=(10, 6))\n",
        "plt.scatter(critic_user_scores['Critic_Score'], critic_user_scores['User_Score'], color='red')\n",
        "plt.title('Figure 6: Critic vs. User Score Comparison')\n",
        "plt.xlabel('Critic Score')\n",
        "plt.ylabel('User Score')\n",
        "plt.show()\n",
        "print(\"Analysis: There is a weak positive correlation between critic and user scores, indicating some agreement.\")\n",
        ""
      ]
    },
    {
      "cell_type": "code",
      "execution_count": null,
      "id": "9ff22e4e",
      "metadata": {
        "id": "9ff22e4e"
      },
      "outputs": [],
      "source": [
        "\n",
        "# Figure 7: Average Scores per Review Platform\n",
        "plt.figure(figsize=(10, 6))\n",
        "critic_user_scores.groupby('Review_Platform')['User_Score'].mean().plot(kind='bar', color='blue')\n",
        "plt.title('Figure 7: Average User Score by Review Platform')\n",
        "plt.xlabel('Review Platform')\n",
        "plt.ylabel('Average User Score')\n",
        "plt.show()\n",
        "print(\"Analysis: Metacritic generally has higher average user scores compared to other platforms.\")\n",
        ""
      ]
    },
    {
      "cell_type": "code",
      "execution_count": null,
      "id": "a5080688",
      "metadata": {
        "id": "a5080688"
      },
      "outputs": [],
      "source": [
        "\n",
        "# Figure 8: Marketing Spend by Year\n",
        "plt.figure(figsize=(10, 6))\n",
        "plt.scatter(market_trends['Year'], market_trends['Marketing_Spend'], color='brown')\n",
        "plt.title('Figure 8: Marketing Spend Over Years')\n",
        "plt.xlabel('Year')\n",
        "plt.ylabel('Marketing Spend (in millions)')\n",
        "plt.show()\n",
        "print(\"Analysis: Each data point is plotted, showing the variation in marketing spend across different years.\")\n",
        ""
      ]
    },
    {
      "cell_type": "code",
      "execution_count": null,
      "id": "608f408f",
      "metadata": {
        "id": "608f408f"
      },
      "outputs": [],
      "source": [
        "\n",
        "# Figure 9: Genre Trends Over Years\n",
        "plt.figure(figsize=(10, 6))\n",
        "market_trends['Genre_Trends'].value_counts().plot(kind='bar', color='teal')\n",
        "plt.title('Figure 9: Genre Trends Over Years')\n",
        "plt.xlabel('Genre Trends')\n",
        "plt.ylabel('Frequency')\n",
        "plt.show()\n",
        "print(\"Analysis: Strategy and RPG genres have become more prevalent, indicating a shift in player preferences.\")\n",
        ""
      ]
    },
    {
      "cell_type": "code",
      "execution_count": null,
      "id": "956415a4",
      "metadata": {
        "id": "956415a4"
      },
      "outputs": [],
      "source": [
        "\n",
        "# Figure 10: Sales Units vs. Price\n",
        "plt.figure(figsize=(10, 6))\n",
        "plt.scatter(global_video_game_sales['Price'], global_video_game_sales['Sales_Units'], color='blue')\n",
        "plt.title('Figure 10: Sales Units vs. Price')\n",
        "plt.xlabel('Price ($)')\n",
        "plt.ylabel('Sales Units (in millions)')\n",
        "plt.show()\n",
        "print(\"Analysis: All data points are represented, showing no clear relationship between price and sales units.\")\n",
        ""
      ]
    },
    {
      "cell_type": "code",
      "execution_count": null,
      "id": "a5d7d79d",
      "metadata": {
        "id": "a5d7d79d"
      },
      "outputs": [],
      "source": [
        "\n",
        "# Figure 11: Sentiment Score by Platform\n",
        "plt.figure(figsize=(10, 6))\n",
        "consumer_sentiment.groupby('Platform')['Sentiment_Score'].mean().plot(kind='bar', color='brown')\n",
        "plt.title('Figure 11: Average Sentiment Score by Platform')\n",
        "plt.xlabel('Platform')\n",
        "plt.ylabel('Average Sentiment Score')\n",
        "plt.show()\n",
        "print(\"Analysis: Twitter has a slightly lower average sentiment score compared to other platforms.\")\n",
        ""
      ]
    },
    {
      "cell_type": "code",
      "execution_count": null,
      "id": "ac147790",
      "metadata": {
        "id": "ac147790"
      },
      "outputs": [],
      "source": [
        "\n",
        "# Figure 12: Sales Performance by Publisher\n",
        "plt.figure(figsize=(10, 6))\n",
        "global_video_game_sales.groupby('Publisher')['Sales_Units'].sum().plot(kind='bar', color='cyan')\n",
        "plt.title('Figure 12: Sales Performance by Publisher')\n",
        "plt.xlabel('Publisher')\n",
        "plt.ylabel('Sales Units (in millions)')\n",
        "plt.show()\n",
        "print(\"Analysis: Publisher Y leads in total sales, outperforming its competitors.\")\n",
        ""
      ]
    },
    {
      "cell_type": "code",
      "execution_count": null,
      "id": "7cc916d9",
      "metadata": {
        "id": "7cc916d9"
      },
      "outputs": [],
      "source": [
        "\n",
        "# Figure 13: Critic Score Distribution\n",
        "plt.figure(figsize=(10, 6))\n",
        "critic_user_scores['Critic_Score'].plot(kind='hist', bins=len(critic_user_scores), color='grey')\n",
        "plt.title('Figure 13: Critic Score Distribution')\n",
        "plt.xlabel('Critic Score')\n",
        "plt.show()\n",
        "print(\"Analysis: Most games receive critic scores in the 70-90 range, showing general favorability.\")\n",
        ""
      ]
    },
    {
      "cell_type": "code",
      "execution_count": null,
      "id": "3f790706",
      "metadata": {
        "id": "3f790706"
      },
      "outputs": [],
      "source": [
        "\n",
        "# Figure 14: User Score Distribution\n",
        "plt.figure(figsize=(10, 6))\n",
        "critic_user_scores['User_Score'].plot(kind='hist', bins=len(critic_user_scores), color='magenta')\n",
        "plt.title('Figure 14: User Score Distribution')\n",
        "plt.xlabel('User Score')\n",
        "plt.show()\n",
        "print(\"Analysis: User scores are more varied, with some games receiving both very high and low ratings.\")\n",
        ""
      ]
    },
    {
      "cell_type": "code",
      "execution_count": null,
      "id": "108b0bba",
      "metadata": {
        "id": "108b0bba"
      },
      "outputs": [],
      "source": [
        "\n",
        "# Figure 15: Economic Growth Across Regions\n",
        "plt.figure(figsize=(10, 6))\n",
        "plt.scatter(market_trends['Region'], market_trends['GDP_Growth'], color='orange')\n",
        "plt.title('Figure 15: Economic Growth Across Regions')\n",
        "plt.xlabel('Region')\n",
        "plt.ylabel('GDP Growth (%)')\n",
        "plt.show()\n",
        "print(\"Analysis: Each region's economic growth rate is plotted, showing Asia's higher GDP growth.\")\n",
        ""
      ]
    }
  ],
  "metadata": {
    "colab": {
      "provenance": []
    }
  },
  "nbformat": 4,
  "nbformat_minor": 5
}